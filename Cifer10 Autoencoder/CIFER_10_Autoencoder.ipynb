{
  "nbformat": 4,
  "nbformat_minor": 0,
  "metadata": {
    "accelerator": "GPU",
    "kernelspec": {
      "display_name": "Python 3",
      "language": "python",
      "name": "python3"
    },
    "language_info": {
      "codemirror_mode": {
        "name": "ipython",
        "version": 3
      },
      "file_extension": ".py",
      "mimetype": "text/x-python",
      "name": "python",
      "nbconvert_exporter": "python",
      "pygments_lexer": "ipython3",
      "version": "3.7.4"
    },
    "colab": {
      "name": "CIFER 10 Autoencoder.ipynb",
      "provenance": [],
      "collapsed_sections": [],
      "include_colab_link": true
    },
    "gpuClass": "standard"
  },
  "cells": [
    {
      "cell_type": "markdown",
      "metadata": {
        "id": "view-in-github",
        "colab_type": "text"
      },
      "source": [
        "<a href=\"https://colab.research.google.com/github/farhan1503001/Generative-Deep-Learning-With-Tensorflow/blob/main/Cifer10%20Autoencoder/CIFER_10_Autoencoder.ipynb\" target=\"_parent\"><img src=\"https://colab.research.google.com/assets/colab-badge.svg\" alt=\"Open In Colab\"/></a>"
      ]
    },
    {
      "cell_type": "markdown",
      "metadata": {
        "id": "L6S2HVAkSt0p"
      },
      "source": [
        "# Week 2 Assignment: CIFAR-10 Autoencoder\n",
        "\n",
        "For this week, you will create a convolutional autoencoder for the [CIFAR10](https://www.tensorflow.org/datasets/catalog/cifar10) dataset. You are free to choose the architecture of your autoencoder provided that the output image has the same dimensions as the input image.\n",
        "\n",
        "After training, your model should meet loss and accuracy requirements when evaluated with the test dataset. You will then download the model and upload it in the classroom for grading. \n",
        "\n",
        "Let's begin!"
      ]
    },
    {
      "cell_type": "markdown",
      "metadata": {
        "id": "6r4iPr2jyisR"
      },
      "source": [
        "***Important:*** *This colab notebook has read-only access so you won't be able to save your changes. If you want to save your work periodically, please click `File -> Save a Copy in Drive` to create a copy in your account, then work from there.*  "
      ]
    },
    {
      "cell_type": "markdown",
      "metadata": {
        "id": "g1mzy2J8_nc1"
      },
      "source": [
        "## Imports"
      ]
    },
    {
      "cell_type": "code",
      "metadata": {
        "id": "3EXwoz-KHtWO"
      },
      "source": [
        "try:\n",
        "  # %tensorflow_version only exists in Colab.\n",
        "  %tensorflow_version 2.x\n",
        "except Exception:\n",
        "  pass\n",
        "\n",
        "import tensorflow as tf\n",
        "import tensorflow_datasets as tfds\n",
        "\n",
        "from keras.models import Sequential"
      ],
      "execution_count": 1,
      "outputs": []
    },
    {
      "cell_type": "markdown",
      "metadata": {
        "id": "n2Gs6Lyc_pd0"
      },
      "source": [
        "## Load and prepare the dataset\n",
        "\n",
        "The [CIFAR 10](https://www.tensorflow.org/datasets/catalog/cifar10) dataset already has train and test splits and you can use those in this exercise. Here are the general steps:\n",
        "\n",
        "* Load the train/test split from TFDS. Set `as_supervised` to `True` so it will be convenient to use the preprocessing function we provided.\n",
        "* Normalize the pixel values to the range [0,1], then return `image, image` pairs for training instead of `image, label`. This is because you will check if the output image is successfully regenerated after going through your autoencoder.\n",
        "* Shuffle and batch the train set. Batch the test set (no need to shuffle).\n"
      ]
    },
    {
      "cell_type": "code",
      "metadata": {
        "id": "t9F7YsCNIKSA"
      },
      "source": [
        "# preprocessing function\n",
        "def map_image(image, label):\n",
        "  image = tf.cast(image, dtype=tf.float32)\n",
        "  image = image / 255.0\n",
        "\n",
        "  return image, image # dataset label is not used. replaced with the same image input.\n",
        "\n",
        "# parameters\n",
        "BATCH_SIZE = 128\n",
        "SHUFFLE_BUFFER_SIZE = 1024\n",
        "\n",
        "\n",
        "### START CODE HERE (Replace instances of `None` with your code) ###\n",
        "\n",
        "# use tfds.load() to fetch the 'train' split of CIFAR-10\n",
        "train_dataset =tfds.load('cifar10',as_supervised=True,split='train')\n",
        "\n",
        "# preprocess the dataset with the `map_image()` function above\n",
        "train_dataset = train_dataset.map(map_image)\n",
        "\n",
        "# shuffle and batch the dataset\n",
        "train_dataset = train_dataset.shuffle(SHUFFLE_BUFFER_SIZE).batch(BATCH_SIZE).repeat(5)\n",
        "\n",
        "\n",
        "# use tfds.load() to fetch the 'test' split of CIFAR-10\n",
        "test_dataset = tfds.load('cifar10',as_supervised=True,split='test')\n",
        "\n",
        "# preprocess the dataset with the `map_image()` function above\n",
        "test_dataset = test_dataset.map(map_image)\n",
        "\n",
        "# batch the dataset\n",
        "test_dataset = test_dataset.batch(BATCH_SIZE).repeat(5)\n",
        "\n",
        "### END CODE HERE ###"
      ],
      "execution_count": 7,
      "outputs": []
    },
    {
      "cell_type": "markdown",
      "metadata": {
        "id": "rPyOgGJs_t98"
      },
      "source": [
        "## Build the Model\n",
        "\n",
        "Create the autoencoder model. As shown in the lectures, you will want to downsample the image in the encoder layers then upsample it in the decoder path. Note that the output layer should be the same dimensions as the original image. Your input images will have the shape `(32, 32, 3)`. If you deviate from this, your model may not be recognized by the grader and may fail. \n",
        "\n",
        "We included a few hints to use the Sequential API below but feel free to remove it and use the Functional API just like in the ungraded labs if you're more comfortable with it. Another reason to use the latter is if you want to visualize the encoder output. As shown in the ungraded labs, it will be easier to indicate multiple outputs with the Functional API. That is not required for this assignment though so you can just stack layers sequentially if you want a simpler solution."
      ]
    },
    {
      "cell_type": "code",
      "metadata": {
        "id": "Wr-Bok3lRgA3",
        "colab": {
          "base_uri": "https://localhost:8080/"
        },
        "outputId": "a99acf86-bec0-4d24-8d63-c13e1afb64ba"
      },
      "source": [
        "# suggested layers to use. feel free to add or remove as you see fit.\n",
        "from keras.layers import Conv2D, UpSampling2D,MaxPooling2D\n",
        "\n",
        "# use the Sequential API (you can remove if you want to use the Functional API)\n",
        "model = Sequential()\n",
        "model.add(Conv2D(filters=64,kernel_size=(3,3),padding='same',activation='relu',input_shape=(32,32,3)))\n",
        "model.add(MaxPooling2D(pool_size=(2,2)))\n",
        "model.add(Conv2D(filters=128,kernel_size=(3,3),padding='same',activation='relu'))\n",
        "model.add(MaxPooling2D(pool_size=(2,2)))\n",
        "model.add(Conv2D(filters=256,kernel_size=(3,3),padding='same',activation='relu'))\n",
        "\n",
        "model.add(Conv2D(filters=128,kernel_size=(3,3),padding='same',activation='relu'))\n",
        "model.add(UpSampling2D(size=(2,2)))\n",
        "model.add(Conv2D(filters=64,kernel_size=(3,3),padding='same',activation='relu'))\n",
        "model.add(UpSampling2D(size=(2,2)))\n",
        "model.add(Conv2D(filters=3,kernel_size=(3,3),padding='same',activation='sigmoid'))\n",
        "### START CODE HERE ###\n",
        "# use `model.add()` to add layers (if using the Sequential API)\n",
        "\n",
        "\n",
        "\n",
        "\n",
        "\n",
        "\n",
        "\n",
        "\n",
        "### END CODE HERE ###\n",
        "\n",
        "model.summary()"
      ],
      "execution_count": 8,
      "outputs": [
        {
          "output_type": "stream",
          "name": "stdout",
          "text": [
            "Model: \"sequential_2\"\n",
            "_________________________________________________________________\n",
            " Layer (type)                Output Shape              Param #   \n",
            "=================================================================\n",
            " conv2d_6 (Conv2D)           (None, 32, 32, 64)        1792      \n",
            "                                                                 \n",
            " max_pooling2d_2 (MaxPooling  (None, 16, 16, 64)       0         \n",
            " 2D)                                                             \n",
            "                                                                 \n",
            " conv2d_7 (Conv2D)           (None, 16, 16, 128)       73856     \n",
            "                                                                 \n",
            " max_pooling2d_3 (MaxPooling  (None, 8, 8, 128)        0         \n",
            " 2D)                                                             \n",
            "                                                                 \n",
            " conv2d_8 (Conv2D)           (None, 8, 8, 256)         295168    \n",
            "                                                                 \n",
            " conv2d_9 (Conv2D)           (None, 8, 8, 128)         295040    \n",
            "                                                                 \n",
            " up_sampling2d_2 (UpSampling  (None, 16, 16, 128)      0         \n",
            " 2D)                                                             \n",
            "                                                                 \n",
            " conv2d_10 (Conv2D)          (None, 16, 16, 64)        73792     \n",
            "                                                                 \n",
            " up_sampling2d_3 (UpSampling  (None, 32, 32, 64)       0         \n",
            " 2D)                                                             \n",
            "                                                                 \n",
            " conv2d_11 (Conv2D)          (None, 32, 32, 3)         1731      \n",
            "                                                                 \n",
            "=================================================================\n",
            "Total params: 741,379\n",
            "Trainable params: 741,379\n",
            "Non-trainable params: 0\n",
            "_________________________________________________________________\n"
          ]
        }
      ]
    },
    {
      "cell_type": "markdown",
      "metadata": {
        "id": "jRWTAijKEVUC"
      },
      "source": [
        "## Configure training parameters\n",
        "\n",
        "We have already provided the optimizer, metrics, and loss in the code below."
      ]
    },
    {
      "cell_type": "code",
      "metadata": {
        "id": "iHIeD9eDETSk"
      },
      "source": [
        "# Please do not change the model.compile() parameters\n",
        "model.compile(optimizer='adam', metrics=['accuracy'], loss='mean_squared_error')"
      ],
      "execution_count": 9,
      "outputs": []
    },
    {
      "cell_type": "markdown",
      "metadata": {
        "id": "tLQPhm1W_8dC"
      },
      "source": [
        "## Training\n",
        "\n",
        "You can now use [model.fit()](https://keras.io/api/models/model_training_apis/#fit-method) to train your model. You will pass in the `train_dataset` and you are free to configure the other parameters. As with any training, you should see the loss generally going down and the accuracy going up with each epoch. If not, please revisit the previous sections to find possible bugs.\n",
        "\n",
        "*Note: If you get a `dataset length is infinite` error. Please check how you defined `train_dataset`. You might have included a [method that repeats the dataset indefinitely](https://www.tensorflow.org/api_docs/python/tf/data/Dataset#repeat).*"
      ]
    },
    {
      "cell_type": "code",
      "metadata": {
        "id": "AMBimOnsRvg0",
        "colab": {
          "base_uri": "https://localhost:8080/"
        },
        "outputId": "13806a3c-b4cb-4e82-d1f7-44de77efe6d7"
      },
      "source": [
        "# parameters (feel free to change this)\n",
        "train_steps = len(train_dataset) // BATCH_SIZE \n",
        "val_steps = len(test_dataset) // BATCH_SIZE\n",
        "\n",
        "### START CODE HERE ###\n",
        "model.fit(train_dataset,validation_data=test_dataset,steps_per_epoch=train_steps,validation_steps=val_steps,epochs=50)\n",
        "### END CODE HERE ###"
      ],
      "execution_count": 11,
      "outputs": [
        {
          "output_type": "stream",
          "name": "stdout",
          "text": [
            "Epoch 1/50\n",
            "15/15 [==============================] - 13s 54ms/step - loss: 0.0534 - accuracy: 0.4368 - val_loss: 0.0381 - val_accuracy: 0.4892\n",
            "Epoch 2/50\n",
            "15/15 [==============================] - 1s 43ms/step - loss: 0.0282 - accuracy: 0.4563 - val_loss: 0.0230 - val_accuracy: 0.5354\n",
            "Epoch 3/50\n",
            "15/15 [==============================] - 1s 41ms/step - loss: 0.0177 - accuracy: 0.6043 - val_loss: 0.0147 - val_accuracy: 0.6295\n",
            "Epoch 4/50\n",
            "15/15 [==============================] - 1s 40ms/step - loss: 0.0134 - accuracy: 0.6353 - val_loss: 0.0117 - val_accuracy: 0.6409\n",
            "Epoch 5/50\n",
            "15/15 [==============================] - 1s 44ms/step - loss: 0.0115 - accuracy: 0.6497 - val_loss: 0.0103 - val_accuracy: 0.6712\n",
            "Epoch 6/50\n",
            "15/15 [==============================] - 1s 43ms/step - loss: 0.0113 - accuracy: 0.6767 - val_loss: 0.0121 - val_accuracy: 0.6939\n",
            "Epoch 7/50\n",
            "15/15 [==============================] - 1s 43ms/step - loss: 0.0103 - accuracy: 0.6694 - val_loss: 0.0090 - val_accuracy: 0.7188\n",
            "Epoch 8/50\n",
            "15/15 [==============================] - 1s 41ms/step - loss: 0.0084 - accuracy: 0.7205 - val_loss: 0.0080 - val_accuracy: 0.7272\n",
            "Epoch 9/50\n",
            "15/15 [==============================] - 1s 41ms/step - loss: 0.0078 - accuracy: 0.7430 - val_loss: 0.0076 - val_accuracy: 0.7467\n",
            "Epoch 10/50\n",
            "15/15 [==============================] - 1s 42ms/step - loss: 0.0073 - accuracy: 0.7534 - val_loss: 0.0102 - val_accuracy: 0.7524\n",
            "Epoch 11/50\n",
            "15/15 [==============================] - 1s 47ms/step - loss: 0.0075 - accuracy: 0.7538 - val_loss: 0.0071 - val_accuracy: 0.7486\n",
            "Epoch 12/50\n",
            "15/15 [==============================] - 1s 41ms/step - loss: 0.0066 - accuracy: 0.7653 - val_loss: 0.0064 - val_accuracy: 0.7648\n",
            "Epoch 13/50\n",
            "15/15 [==============================] - 1s 41ms/step - loss: 0.0061 - accuracy: 0.7699 - val_loss: 0.0061 - val_accuracy: 0.7641\n",
            "Epoch 14/50\n",
            "15/15 [==============================] - 1s 41ms/step - loss: 0.0063 - accuracy: 0.7732 - val_loss: 0.0059 - val_accuracy: 0.7664\n",
            "Epoch 15/50\n",
            "15/15 [==============================] - 1s 41ms/step - loss: 0.0056 - accuracy: 0.7776 - val_loss: 0.0055 - val_accuracy: 0.7801\n",
            "Epoch 16/50\n",
            "15/15 [==============================] - 1s 41ms/step - loss: 0.0093 - accuracy: 0.7549 - val_loss: 0.0093 - val_accuracy: 0.7219\n",
            "Epoch 17/50\n",
            "15/15 [==============================] - 1s 42ms/step - loss: 0.0070 - accuracy: 0.7378 - val_loss: 0.0063 - val_accuracy: 0.7598\n",
            "Epoch 18/50\n",
            "15/15 [==============================] - 1s 41ms/step - loss: 0.0059 - accuracy: 0.7606 - val_loss: 0.0055 - val_accuracy: 0.7731\n",
            "Epoch 19/50\n",
            "15/15 [==============================] - 1s 40ms/step - loss: 0.0054 - accuracy: 0.7803 - val_loss: 0.0052 - val_accuracy: 0.7874\n",
            "Epoch 20/50\n",
            "15/15 [==============================] - 1s 43ms/step - loss: 0.0052 - accuracy: 0.7798 - val_loss: 0.0050 - val_accuracy: 0.7799\n",
            "Epoch 21/50\n",
            "15/15 [==============================] - 1s 41ms/step - loss: 0.0050 - accuracy: 0.7830 - val_loss: 0.0049 - val_accuracy: 0.7875\n",
            "Epoch 22/50\n",
            "15/15 [==============================] - 1s 41ms/step - loss: 0.0056 - accuracy: 0.7789 - val_loss: 0.0051 - val_accuracy: 0.7786\n",
            "Epoch 23/50\n",
            "15/15 [==============================] - 1s 41ms/step - loss: 0.0051 - accuracy: 0.7861 - val_loss: 0.0050 - val_accuracy: 0.7963\n",
            "Epoch 24/50\n",
            "15/15 [==============================] - 1s 41ms/step - loss: 0.0048 - accuracy: 0.7873 - val_loss: 0.0047 - val_accuracy: 0.7983\n",
            "Epoch 25/50\n",
            "15/15 [==============================] - 1s 41ms/step - loss: 0.0046 - accuracy: 0.7949 - val_loss: 0.0045 - val_accuracy: 0.7884\n",
            "Epoch 26/50\n",
            "15/15 [==============================] - 0s 32ms/step - loss: 0.0045 - accuracy: 0.7986 - val_loss: 0.0047 - val_accuracy: 0.7863\n",
            "Epoch 27/50\n",
            "15/15 [==============================] - 1s 37ms/step - loss: 0.0045 - accuracy: 0.8015 - val_loss: 0.0046 - val_accuracy: 0.7915\n",
            "Epoch 28/50\n",
            "15/15 [==============================] - 0s 34ms/step - loss: 0.0044 - accuracy: 0.8036 - val_loss: 0.0045 - val_accuracy: 0.7934\n",
            "Epoch 29/50\n",
            "15/15 [==============================] - 1s 35ms/step - loss: 0.0045 - accuracy: 0.7975 - val_loss: 0.0049 - val_accuracy: 0.7801\n",
            "Epoch 30/50\n",
            "15/15 [==============================] - 1s 34ms/step - loss: 0.0045 - accuracy: 0.8020 - val_loss: 0.0042 - val_accuracy: 0.8118\n",
            "Epoch 31/50\n",
            "15/15 [==============================] - 0s 33ms/step - loss: 0.0043 - accuracy: 0.8028 - val_loss: 0.0041 - val_accuracy: 0.7948\n",
            "Epoch 32/50\n",
            "15/15 [==============================] - 1s 36ms/step - loss: 0.0041 - accuracy: 0.7978 - val_loss: 0.0040 - val_accuracy: 0.7999\n",
            "Epoch 33/50\n",
            "15/15 [==============================] - 1s 34ms/step - loss: 0.0043 - accuracy: 0.7999 - val_loss: 0.0051 - val_accuracy: 0.8015\n",
            "Epoch 34/50\n",
            "15/15 [==============================] - 1s 34ms/step - loss: 0.0044 - accuracy: 0.7892 - val_loss: 0.0041 - val_accuracy: 0.8090\n",
            "Epoch 35/50\n",
            "15/15 [==============================] - 1s 35ms/step - loss: 0.0040 - accuracy: 0.8048 - val_loss: 0.0038 - val_accuracy: 0.8080\n",
            "Epoch 36/50\n",
            "15/15 [==============================] - 1s 35ms/step - loss: 0.0038 - accuracy: 0.8129 - val_loss: 0.0038 - val_accuracy: 0.7914\n",
            "Epoch 37/50\n",
            "15/15 [==============================] - 0s 33ms/step - loss: 0.0044 - accuracy: 0.8055 - val_loss: 0.0044 - val_accuracy: 0.8062\n",
            "Epoch 38/50\n",
            "15/15 [==============================] - 1s 36ms/step - loss: 0.0040 - accuracy: 0.8085 - val_loss: 0.0039 - val_accuracy: 0.8142\n",
            "Epoch 39/50\n",
            "15/15 [==============================] - 1s 34ms/step - loss: 0.0038 - accuracy: 0.8171 - val_loss: 0.0037 - val_accuracy: 0.8193\n",
            "Epoch 40/50\n",
            "15/15 [==============================] - 1s 35ms/step - loss: 0.0037 - accuracy: 0.8172 - val_loss: 0.0036 - val_accuracy: 0.8172\n",
            "Epoch 41/50\n",
            "15/15 [==============================] - 0s 33ms/step - loss: 0.0038 - accuracy: 0.8171 - val_loss: 0.0036 - val_accuracy: 0.8232\n",
            "Epoch 42/50\n",
            "15/15 [==============================] - 0s 33ms/step - loss: 0.0037 - accuracy: 0.8172 - val_loss: 0.0037 - val_accuracy: 0.8170\n",
            "Epoch 43/50\n",
            "15/15 [==============================] - 0s 33ms/step - loss: 0.0038 - accuracy: 0.8079 - val_loss: 0.0035 - val_accuracy: 0.8058\n",
            "Epoch 44/50\n",
            "15/15 [==============================] - 1s 35ms/step - loss: 0.0036 - accuracy: 0.8134 - val_loss: 0.0035 - val_accuracy: 0.8197\n",
            "Epoch 45/50\n",
            "15/15 [==============================] - 1s 34ms/step - loss: 0.0035 - accuracy: 0.8206 - val_loss: 0.0034 - val_accuracy: 0.8199\n",
            "Epoch 46/50\n",
            "15/15 [==============================] - 1s 35ms/step - loss: 0.0039 - accuracy: 0.8055 - val_loss: 0.0041 - val_accuracy: 0.7980\n",
            "Epoch 47/50\n",
            "15/15 [==============================] - 1s 35ms/step - loss: 0.0041 - accuracy: 0.7835 - val_loss: 0.0036 - val_accuracy: 0.7890\n",
            "Epoch 48/50\n",
            "15/15 [==============================] - 1s 34ms/step - loss: 0.0037 - accuracy: 0.8046 - val_loss: 0.0035 - val_accuracy: 0.7862\n",
            "Epoch 49/50\n",
            "15/15 [==============================] - 1s 35ms/step - loss: 0.0034 - accuracy: 0.8081 - val_loss: 0.0033 - val_accuracy: 0.8167\n",
            "Epoch 50/50\n",
            "15/15 [==============================] - 1s 34ms/step - loss: 0.0033 - accuracy: 0.8183 - val_loss: 0.0033 - val_accuracy: 0.8185\n"
          ]
        },
        {
          "output_type": "execute_result",
          "data": {
            "text/plain": [
              "<keras.callbacks.History at 0x7f00e4d77d10>"
            ]
          },
          "metadata": {},
          "execution_count": 11
        }
      ]
    },
    {
      "cell_type": "markdown",
      "metadata": {
        "id": "PT2l1c-SAaF4"
      },
      "source": [
        "## Model evaluation\n",
        "\n",
        "You can use this code to test your model locally before uploading to the grader. To pass, your model needs to satisfy these two requirements:\n",
        "\n",
        "* loss must be less than 0.01 \n",
        "* accuracy must be greater than 0.6"
      ]
    },
    {
      "cell_type": "code",
      "metadata": {
        "id": "vFncgqahSQhA",
        "colab": {
          "base_uri": "https://localhost:8080/"
        },
        "outputId": "955c005c-183d-4a97-f185-47b655c44890"
      },
      "source": [
        "result = model.evaluate(test_dataset, steps=10)"
      ],
      "execution_count": 12,
      "outputs": [
        {
          "output_type": "stream",
          "name": "stdout",
          "text": [
            "10/10 [==============================] - 0s 23ms/step - loss: 0.0033 - accuracy: 0.8217\n"
          ]
        }
      ]
    },
    {
      "cell_type": "markdown",
      "metadata": {
        "id": "di6VOHGwIsVM"
      },
      "source": [
        "If you did some visualization like in the ungraded labs, then you might see something like the gallery below. This part is not required."
      ]
    },
    {
      "cell_type": "markdown",
      "metadata": {
        "id": "wmpI4skkIA5L"
      },
      "source": [
        "<img src=\"https://drive.google.com/uc?export=view&id=12Fy-guiP-3tTPfc9IV2nHhqLvs7LwRo6\" width=\"75%\" height=\"75%\"/>"
      ]
    },
    {
      "cell_type": "markdown",
      "metadata": {
        "id": "uaRSkQPNAPT0"
      },
      "source": [
        "## Save your model\n",
        "\n",
        "Once you are satisfied with the results, you can now save your model. Please download it from the Files window on the left and go back to the Submission portal in Coursera for grading."
      ]
    },
    {
      "cell_type": "code",
      "metadata": {
        "id": "pLFpLP-c7rDR"
      },
      "source": [
        "model.save('mymodel.h5')"
      ],
      "execution_count": 13,
      "outputs": []
    },
    {
      "cell_type": "markdown",
      "metadata": {
        "id": "QArMiXJTDxDe"
      },
      "source": [
        "**Congratulations on completing this week's assignment!**"
      ]
    }
  ]
}