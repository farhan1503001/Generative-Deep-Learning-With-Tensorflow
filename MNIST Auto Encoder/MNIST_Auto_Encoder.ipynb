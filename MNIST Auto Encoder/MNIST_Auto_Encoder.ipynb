{
  "nbformat": 4,
  "nbformat_minor": 0,
  "metadata": {
    "colab": {
      "name": "MNIST Auto Encoder.ipynb",
      "provenance": [],
      "collapsed_sections": [],
      "authorship_tag": "ABX9TyM0h8di5Z1J4MhKeTX6YHe2",
      "include_colab_link": true
    },
    "kernelspec": {
      "name": "python3",
      "display_name": "Python 3"
    },
    "language_info": {
      "name": "python"
    },
    "widgets": {
      "application/vnd.jupyter.widget-state+json": {
        "d708042582e04b7e8e66d1e10824f18d": {
          "model_module": "@jupyter-widgets/controls",
          "model_name": "HBoxModel",
          "model_module_version": "1.5.0",
          "state": {
            "_dom_classes": [],
            "_model_module": "@jupyter-widgets/controls",
            "_model_module_version": "1.5.0",
            "_model_name": "HBoxModel",
            "_view_count": null,
            "_view_module": "@jupyter-widgets/controls",
            "_view_module_version": "1.5.0",
            "_view_name": "HBoxView",
            "box_style": "",
            "children": [
              "IPY_MODEL_5103f76d4797475088bac2108e63be97",
              "IPY_MODEL_8d0a279633a44b51902ba89d2ce8d556",
              "IPY_MODEL_a551cbd31b9646b0b420fac0ad74a090"
            ],
            "layout": "IPY_MODEL_7af5fda75d134e7488796841ac8ea7d2"
          }
        },
        "5103f76d4797475088bac2108e63be97": {
          "model_module": "@jupyter-widgets/controls",
          "model_name": "HTMLModel",
          "model_module_version": "1.5.0",
          "state": {
            "_dom_classes": [],
            "_model_module": "@jupyter-widgets/controls",
            "_model_module_version": "1.5.0",
            "_model_name": "HTMLModel",
            "_view_count": null,
            "_view_module": "@jupyter-widgets/controls",
            "_view_module_version": "1.5.0",
            "_view_name": "HTMLView",
            "description": "",
            "description_tooltip": null,
            "layout": "IPY_MODEL_ea781e62fb3d4ed5af646fdcd4878c7a",
            "placeholder": "​",
            "style": "IPY_MODEL_23c7ae62fbc3456a89163a5daa7fb5f9",
            "value": "Dl Completed...: 100%"
          }
        },
        "8d0a279633a44b51902ba89d2ce8d556": {
          "model_module": "@jupyter-widgets/controls",
          "model_name": "FloatProgressModel",
          "model_module_version": "1.5.0",
          "state": {
            "_dom_classes": [],
            "_model_module": "@jupyter-widgets/controls",
            "_model_module_version": "1.5.0",
            "_model_name": "FloatProgressModel",
            "_view_count": null,
            "_view_module": "@jupyter-widgets/controls",
            "_view_module_version": "1.5.0",
            "_view_name": "ProgressView",
            "bar_style": "success",
            "description": "",
            "description_tooltip": null,
            "layout": "IPY_MODEL_08eeadd824fc47e4a6f2e972d4ed254e",
            "max": 4,
            "min": 0,
            "orientation": "horizontal",
            "style": "IPY_MODEL_b8f4aaa76b314ca1ba814dabd2e1036b",
            "value": 4
          }
        },
        "a551cbd31b9646b0b420fac0ad74a090": {
          "model_module": "@jupyter-widgets/controls",
          "model_name": "HTMLModel",
          "model_module_version": "1.5.0",
          "state": {
            "_dom_classes": [],
            "_model_module": "@jupyter-widgets/controls",
            "_model_module_version": "1.5.0",
            "_model_name": "HTMLModel",
            "_view_count": null,
            "_view_module": "@jupyter-widgets/controls",
            "_view_module_version": "1.5.0",
            "_view_name": "HTMLView",
            "description": "",
            "description_tooltip": null,
            "layout": "IPY_MODEL_3dea5a19a3a145f2b677fbbc92aecb30",
            "placeholder": "​",
            "style": "IPY_MODEL_53c7b9bdb81448e3ae643d8c9a38e035",
            "value": " 4/4 [00:00&lt;00:00, 13.24 file/s]"
          }
        },
        "7af5fda75d134e7488796841ac8ea7d2": {
          "model_module": "@jupyter-widgets/base",
          "model_name": "LayoutModel",
          "model_module_version": "1.2.0",
          "state": {
            "_model_module": "@jupyter-widgets/base",
            "_model_module_version": "1.2.0",
            "_model_name": "LayoutModel",
            "_view_count": null,
            "_view_module": "@jupyter-widgets/base",
            "_view_module_version": "1.2.0",
            "_view_name": "LayoutView",
            "align_content": null,
            "align_items": null,
            "align_self": null,
            "border": null,
            "bottom": null,
            "display": null,
            "flex": null,
            "flex_flow": null,
            "grid_area": null,
            "grid_auto_columns": null,
            "grid_auto_flow": null,
            "grid_auto_rows": null,
            "grid_column": null,
            "grid_gap": null,
            "grid_row": null,
            "grid_template_areas": null,
            "grid_template_columns": null,
            "grid_template_rows": null,
            "height": null,
            "justify_content": null,
            "justify_items": null,
            "left": null,
            "margin": null,
            "max_height": null,
            "max_width": null,
            "min_height": null,
            "min_width": null,
            "object_fit": null,
            "object_position": null,
            "order": null,
            "overflow": null,
            "overflow_x": null,
            "overflow_y": null,
            "padding": null,
            "right": null,
            "top": null,
            "visibility": null,
            "width": null
          }
        },
        "ea781e62fb3d4ed5af646fdcd4878c7a": {
          "model_module": "@jupyter-widgets/base",
          "model_name": "LayoutModel",
          "model_module_version": "1.2.0",
          "state": {
            "_model_module": "@jupyter-widgets/base",
            "_model_module_version": "1.2.0",
            "_model_name": "LayoutModel",
            "_view_count": null,
            "_view_module": "@jupyter-widgets/base",
            "_view_module_version": "1.2.0",
            "_view_name": "LayoutView",
            "align_content": null,
            "align_items": null,
            "align_self": null,
            "border": null,
            "bottom": null,
            "display": null,
            "flex": null,
            "flex_flow": null,
            "grid_area": null,
            "grid_auto_columns": null,
            "grid_auto_flow": null,
            "grid_auto_rows": null,
            "grid_column": null,
            "grid_gap": null,
            "grid_row": null,
            "grid_template_areas": null,
            "grid_template_columns": null,
            "grid_template_rows": null,
            "height": null,
            "justify_content": null,
            "justify_items": null,
            "left": null,
            "margin": null,
            "max_height": null,
            "max_width": null,
            "min_height": null,
            "min_width": null,
            "object_fit": null,
            "object_position": null,
            "order": null,
            "overflow": null,
            "overflow_x": null,
            "overflow_y": null,
            "padding": null,
            "right": null,
            "top": null,
            "visibility": null,
            "width": null
          }
        },
        "23c7ae62fbc3456a89163a5daa7fb5f9": {
          "model_module": "@jupyter-widgets/controls",
          "model_name": "DescriptionStyleModel",
          "model_module_version": "1.5.0",
          "state": {
            "_model_module": "@jupyter-widgets/controls",
            "_model_module_version": "1.5.0",
            "_model_name": "DescriptionStyleModel",
            "_view_count": null,
            "_view_module": "@jupyter-widgets/base",
            "_view_module_version": "1.2.0",
            "_view_name": "StyleView",
            "description_width": ""
          }
        },
        "08eeadd824fc47e4a6f2e972d4ed254e": {
          "model_module": "@jupyter-widgets/base",
          "model_name": "LayoutModel",
          "model_module_version": "1.2.0",
          "state": {
            "_model_module": "@jupyter-widgets/base",
            "_model_module_version": "1.2.0",
            "_model_name": "LayoutModel",
            "_view_count": null,
            "_view_module": "@jupyter-widgets/base",
            "_view_module_version": "1.2.0",
            "_view_name": "LayoutView",
            "align_content": null,
            "align_items": null,
            "align_self": null,
            "border": null,
            "bottom": null,
            "display": null,
            "flex": null,
            "flex_flow": null,
            "grid_area": null,
            "grid_auto_columns": null,
            "grid_auto_flow": null,
            "grid_auto_rows": null,
            "grid_column": null,
            "grid_gap": null,
            "grid_row": null,
            "grid_template_areas": null,
            "grid_template_columns": null,
            "grid_template_rows": null,
            "height": null,
            "justify_content": null,
            "justify_items": null,
            "left": null,
            "margin": null,
            "max_height": null,
            "max_width": null,
            "min_height": null,
            "min_width": null,
            "object_fit": null,
            "object_position": null,
            "order": null,
            "overflow": null,
            "overflow_x": null,
            "overflow_y": null,
            "padding": null,
            "right": null,
            "top": null,
            "visibility": null,
            "width": null
          }
        },
        "b8f4aaa76b314ca1ba814dabd2e1036b": {
          "model_module": "@jupyter-widgets/controls",
          "model_name": "ProgressStyleModel",
          "model_module_version": "1.5.0",
          "state": {
            "_model_module": "@jupyter-widgets/controls",
            "_model_module_version": "1.5.0",
            "_model_name": "ProgressStyleModel",
            "_view_count": null,
            "_view_module": "@jupyter-widgets/base",
            "_view_module_version": "1.2.0",
            "_view_name": "StyleView",
            "bar_color": null,
            "description_width": ""
          }
        },
        "3dea5a19a3a145f2b677fbbc92aecb30": {
          "model_module": "@jupyter-widgets/base",
          "model_name": "LayoutModel",
          "model_module_version": "1.2.0",
          "state": {
            "_model_module": "@jupyter-widgets/base",
            "_model_module_version": "1.2.0",
            "_model_name": "LayoutModel",
            "_view_count": null,
            "_view_module": "@jupyter-widgets/base",
            "_view_module_version": "1.2.0",
            "_view_name": "LayoutView",
            "align_content": null,
            "align_items": null,
            "align_self": null,
            "border": null,
            "bottom": null,
            "display": null,
            "flex": null,
            "flex_flow": null,
            "grid_area": null,
            "grid_auto_columns": null,
            "grid_auto_flow": null,
            "grid_auto_rows": null,
            "grid_column": null,
            "grid_gap": null,
            "grid_row": null,
            "grid_template_areas": null,
            "grid_template_columns": null,
            "grid_template_rows": null,
            "height": null,
            "justify_content": null,
            "justify_items": null,
            "left": null,
            "margin": null,
            "max_height": null,
            "max_width": null,
            "min_height": null,
            "min_width": null,
            "object_fit": null,
            "object_position": null,
            "order": null,
            "overflow": null,
            "overflow_x": null,
            "overflow_y": null,
            "padding": null,
            "right": null,
            "top": null,
            "visibility": null,
            "width": null
          }
        },
        "53c7b9bdb81448e3ae643d8c9a38e035": {
          "model_module": "@jupyter-widgets/controls",
          "model_name": "DescriptionStyleModel",
          "model_module_version": "1.5.0",
          "state": {
            "_model_module": "@jupyter-widgets/controls",
            "_model_module_version": "1.5.0",
            "_model_name": "DescriptionStyleModel",
            "_view_count": null,
            "_view_module": "@jupyter-widgets/base",
            "_view_module_version": "1.2.0",
            "_view_name": "StyleView",
            "description_width": ""
          }
        }
      }
    }
  },
  "cells": [
    {
      "cell_type": "markdown",
      "metadata": {
        "id": "view-in-github",
        "colab_type": "text"
      },
      "source": [
        "<a href=\"https://colab.research.google.com/github/farhan1503001/Generative-Deep-Learning-With-Tensorflow/blob/main/MNIST%20Auto%20Encoder/MNIST_Auto_Encoder.ipynb\" target=\"_parent\"><img src=\"https://colab.research.google.com/assets/colab-badge.svg\" alt=\"Open In Colab\"/></a>"
      ]
    },
    {
      "cell_type": "markdown",
      "source": [
        "# MNIST Auto Encoder \n"
      ],
      "metadata": {
        "id": "66-hNyuEft-i"
      }
    },
    {
      "cell_type": "code",
      "execution_count": 1,
      "metadata": {
        "id": "xMfsGalTfawF"
      },
      "outputs": [],
      "source": [
        "try:\n",
        "  # %tensorflow_version only exists in Colab.\n",
        "  %tensorflow_version 2.x\n",
        "except Exception:\n",
        "  pass\n",
        "  \n",
        "import tensorflow as tf\n",
        "import tensorflow_datasets as tfds\n",
        "\n",
        "import numpy as np\n",
        "import matplotlib.pyplot as plt"
      ]
    },
    {
      "cell_type": "code",
      "source": [
        "from tensorflow.python.ops.gen_array_ops import invert_permutation_eager_fallback\n",
        "def map_image(image,label):\n",
        "  image=tf.cast(image,dtype=tf.float32)\n",
        "  image=image/255.0\n",
        "  #Now kind of flattening the image for our model\n",
        "  image=tf.reshape(image,shape=(784,))\n",
        "  #As in auto encoder image is itself it's label\n",
        "  return image,image"
      ],
      "metadata": {
        "id": "UAF_MC-1ftRp"
      },
      "execution_count": 2,
      "outputs": []
    },
    {
      "cell_type": "markdown",
      "source": [
        "**Loading the dataset**"
      ],
      "metadata": {
        "id": "q31sJsXigm8z"
      }
    },
    {
      "cell_type": "code",
      "source": [
        "from tensorflow.python.ops.gen_linalg_ops import batch_cholesky\n",
        "#Now batchify and creating train and test dataset\n",
        "Batch_size=128\n",
        "Shuffle=1024\n",
        "#Now creating training and testing dataset\n",
        "train_dataset=tfds.load(name='mnist',as_supervised=True,split='train')\n",
        "#Now performing image preprocessing\n",
        "train_dataset=train_dataset.map(map_image)\n",
        "train_dataset=train_dataset.shuffle(Shuffle).batch(Batch_size).repeat()\n",
        "\n",
        "#Now creating testing dataset\n",
        "test_dataset=tfds.load(name='mnist',as_supervised=True,split='test')\n",
        "test_dataset=test_dataset.map(map_image)\n",
        "test_dataset=test_dataset.shuffle(Shuffle).batch(Batch_size).repeat()"
      ],
      "metadata": {
        "colab": {
          "base_uri": "https://localhost:8080/",
          "height": 210,
          "referenced_widgets": [
            "d708042582e04b7e8e66d1e10824f18d",
            "5103f76d4797475088bac2108e63be97",
            "8d0a279633a44b51902ba89d2ce8d556",
            "a551cbd31b9646b0b420fac0ad74a090",
            "7af5fda75d134e7488796841ac8ea7d2",
            "ea781e62fb3d4ed5af646fdcd4878c7a",
            "23c7ae62fbc3456a89163a5daa7fb5f9",
            "08eeadd824fc47e4a6f2e972d4ed254e",
            "b8f4aaa76b314ca1ba814dabd2e1036b",
            "3dea5a19a3a145f2b677fbbc92aecb30",
            "53c7b9bdb81448e3ae643d8c9a38e035"
          ]
        },
        "id": "1UJL8m5vgY9u",
        "outputId": "5dfdc5a0-e3eb-4601-afd2-ea7ffc000b74"
      },
      "execution_count": 3,
      "outputs": [
        {
          "output_type": "stream",
          "name": "stdout",
          "text": [
            "\u001b[1mDownloading and preparing dataset mnist/3.0.1 (download: 11.06 MiB, generated: 21.00 MiB, total: 32.06 MiB) to /root/tensorflow_datasets/mnist/3.0.1...\u001b[0m\n"
          ]
        },
        {
          "output_type": "stream",
          "name": "stderr",
          "text": [
            "WARNING:absl:Dataset mnist is hosted on GCS. It will automatically be downloaded to your\n",
            "local data directory. If you'd instead prefer to read directly from our public\n",
            "GCS bucket (recommended if you're running on GCP), you can instead pass\n",
            "`try_gcs=True` to `tfds.load` or set `data_dir=gs://tfds-data/datasets`.\n",
            "\n"
          ]
        },
        {
          "output_type": "display_data",
          "data": {
            "text/plain": [
              "Dl Completed...:   0%|          | 0/4 [00:00<?, ? file/s]"
            ],
            "application/vnd.jupyter.widget-view+json": {
              "version_major": 2,
              "version_minor": 0,
              "model_id": "d708042582e04b7e8e66d1e10824f18d"
            }
          },
          "metadata": {}
        },
        {
          "output_type": "stream",
          "name": "stdout",
          "text": [
            "\n",
            "\u001b[1mDataset mnist downloaded and prepared to /root/tensorflow_datasets/mnist/3.0.1. Subsequent calls will reuse this data.\u001b[0m\n"
          ]
        }
      ]
    },
    {
      "cell_type": "code",
      "source": [
        "#Now creating autoencoder\n",
        "def simple_autoencoder(inputs):\n",
        "  #We will return just encoder and decoder\n",
        "  encoder=tf.keras.layers.Dense(units=32,activation='relu')(inputs)\n",
        "  decoder=tf.keras.layers.Dense(units=28*28,activation='sigmoid')(encoder)\n",
        "  return encoder,decoder\n",
        "\n",
        "inputs=tf.keras.layers.Input(shape=(784,))\n",
        "\n",
        "encoder_out,decoder_out=simple_autoencoder(inputs)\n",
        "encoder_model=tf.keras.Model(inputs=inputs,outputs=encoder_out)\n",
        "autoencoder_model=tf.keras.Model(inputs=inputs,outputs=decoder_out)"
      ],
      "metadata": {
        "id": "m3nuUJrkh4r5"
      },
      "execution_count": 6,
      "outputs": []
    },
    {
      "cell_type": "markdown",
      "source": [
        "**Compiling the model**"
      ],
      "metadata": {
        "id": "TSgUxJTmjQxO"
      }
    },
    {
      "cell_type": "code",
      "source": [
        "autoencoder_model.compile(\n",
        "    optimizer=tf.keras.optimizers.Adam(), \n",
        "    loss='binary_crossentropy')"
      ],
      "metadata": {
        "id": "5I5zbUHYiuLJ"
      },
      "execution_count": 7,
      "outputs": []
    },
    {
      "cell_type": "code",
      "source": [
        "train_steps=60000//Batch_size\n",
        "history = autoencoder_model.fit(train_dataset, steps_per_epoch=train_steps, epochs=50)"
      ],
      "metadata": {
        "colab": {
          "base_uri": "https://localhost:8080/"
        },
        "id": "OwWnTRE3jYfA",
        "outputId": "bc9a91ac-d429-4135-91c7-c44b68a93bc3"
      },
      "execution_count": 8,
      "outputs": [
        {
          "output_type": "stream",
          "name": "stdout",
          "text": [
            "Epoch 1/50\n",
            "468/468 [==============================] - 11s 22ms/step - loss: 0.2281\n",
            "Epoch 2/50\n",
            "468/468 [==============================] - 6s 12ms/step - loss: 0.1426\n",
            "Epoch 3/50\n",
            "468/468 [==============================] - 6s 12ms/step - loss: 0.1197\n",
            "Epoch 4/50\n",
            "468/468 [==============================] - 6s 12ms/step - loss: 0.1076\n",
            "Epoch 5/50\n",
            "468/468 [==============================] - 8s 17ms/step - loss: 0.1008\n",
            "Epoch 6/50\n",
            "468/468 [==============================] - 9s 19ms/step - loss: 0.0973\n",
            "Epoch 7/50\n",
            "468/468 [==============================] - 6s 12ms/step - loss: 0.0957\n",
            "Epoch 8/50\n",
            "468/468 [==============================] - 6s 13ms/step - loss: 0.0948\n",
            "Epoch 9/50\n",
            "468/468 [==============================] - 8s 17ms/step - loss: 0.0943\n",
            "Epoch 10/50\n",
            "468/468 [==============================] - 6s 12ms/step - loss: 0.0940\n",
            "Epoch 11/50\n",
            "468/468 [==============================] - 6s 12ms/step - loss: 0.0938\n",
            "Epoch 12/50\n",
            "468/468 [==============================] - 6s 12ms/step - loss: 0.0936\n",
            "Epoch 13/50\n",
            "468/468 [==============================] - 6s 12ms/step - loss: 0.0935\n",
            "Epoch 14/50\n",
            "468/468 [==============================] - 7s 15ms/step - loss: 0.0934\n",
            "Epoch 15/50\n",
            "468/468 [==============================] - 8s 17ms/step - loss: 0.0933\n",
            "Epoch 16/50\n",
            "468/468 [==============================] - 8s 17ms/step - loss: 0.0933\n",
            "Epoch 17/50\n",
            "468/468 [==============================] - 7s 15ms/step - loss: 0.0932\n",
            "Epoch 18/50\n",
            "468/468 [==============================] - 6s 12ms/step - loss: 0.0931\n",
            "Epoch 19/50\n",
            "468/468 [==============================] - 6s 12ms/step - loss: 0.0931\n",
            "Epoch 20/50\n",
            "468/468 [==============================] - 6s 12ms/step - loss: 0.0931\n",
            "Epoch 21/50\n",
            "468/468 [==============================] - 8s 16ms/step - loss: 0.0930\n",
            "Epoch 22/50\n",
            "468/468 [==============================] - 8s 17ms/step - loss: 0.0930\n",
            "Epoch 23/50\n",
            "468/468 [==============================] - 6s 12ms/step - loss: 0.0930\n",
            "Epoch 24/50\n",
            "468/468 [==============================] - 6s 12ms/step - loss: 0.0929\n",
            "Epoch 25/50\n",
            "468/468 [==============================] - 6s 12ms/step - loss: 0.0929\n",
            "Epoch 26/50\n",
            "468/468 [==============================] - 6s 12ms/step - loss: 0.0929\n",
            "Epoch 27/50\n",
            "468/468 [==============================] - 6s 12ms/step - loss: 0.0929\n",
            "Epoch 28/50\n",
            "468/468 [==============================] - 6s 12ms/step - loss: 0.0929\n",
            "Epoch 29/50\n",
            "468/468 [==============================] - 7s 15ms/step - loss: 0.0928\n",
            "Epoch 30/50\n",
            "468/468 [==============================] - 6s 12ms/step - loss: 0.0928\n",
            "Epoch 31/50\n",
            "468/468 [==============================] - 6s 13ms/step - loss: 0.0928\n",
            "Epoch 32/50\n",
            "468/468 [==============================] - 6s 12ms/step - loss: 0.0928\n",
            "Epoch 33/50\n",
            "468/468 [==============================] - 6s 12ms/step - loss: 0.0928\n",
            "Epoch 34/50\n",
            "468/468 [==============================] - 6s 12ms/step - loss: 0.0927\n",
            "Epoch 35/50\n",
            "468/468 [==============================] - 6s 12ms/step - loss: 0.0927\n",
            "Epoch 36/50\n",
            "468/468 [==============================] - 6s 13ms/step - loss: 0.0927\n",
            "Epoch 37/50\n",
            "468/468 [==============================] - 6s 13ms/step - loss: 0.0927\n",
            "Epoch 38/50\n",
            "468/468 [==============================] - 6s 12ms/step - loss: 0.0927\n",
            "Epoch 39/50\n",
            "468/468 [==============================] - 6s 14ms/step - loss: 0.0927\n",
            "Epoch 40/50\n",
            "468/468 [==============================] - 6s 12ms/step - loss: 0.0927\n",
            "Epoch 41/50\n",
            "468/468 [==============================] - 6s 12ms/step - loss: 0.0926\n",
            "Epoch 42/50\n",
            "468/468 [==============================] - 6s 12ms/step - loss: 0.0926\n",
            "Epoch 43/50\n",
            "468/468 [==============================] - 6s 12ms/step - loss: 0.0926\n",
            "Epoch 44/50\n",
            "468/468 [==============================] - 6s 12ms/step - loss: 0.0926\n",
            "Epoch 45/50\n",
            "468/468 [==============================] - 6s 12ms/step - loss: 0.0926\n",
            "Epoch 46/50\n",
            "468/468 [==============================] - 6s 12ms/step - loss: 0.0926\n",
            "Epoch 47/50\n",
            "468/468 [==============================] - 6s 12ms/step - loss: 0.0926\n",
            "Epoch 48/50\n",
            "468/468 [==============================] - 8s 18ms/step - loss: 0.0926\n",
            "Epoch 49/50\n",
            "468/468 [==============================] - 6s 12ms/step - loss: 0.0925\n",
            "Epoch 50/50\n",
            "468/468 [==============================] - 6s 12ms/step - loss: 0.0925\n"
          ]
        }
      ]
    },
    {
      "cell_type": "markdown",
      "source": [
        "**Visualization**"
      ],
      "metadata": {
        "id": "ieO5qCEPjs0j"
      }
    },
    {
      "cell_type": "code",
      "source": [
        "def display_one_row(disp_images, offset, shape=(28, 28)):\n",
        "  '''Display sample outputs in one row.'''\n",
        "  for idx, test_image in enumerate(disp_images):\n",
        "    plt.subplot(3, 10, offset + idx + 1)\n",
        "    plt.xticks([])\n",
        "    plt.yticks([])\n",
        "    test_image = np.reshape(test_image, shape)\n",
        "    plt.imshow(test_image, cmap='gray')\n",
        "\n",
        "\n",
        "def display_results(disp_input_images, disp_encoded, disp_predicted, enc_shape=(8,4)):\n",
        "  '''Displays the input, encoded, and decoded output values.'''\n",
        "  plt.figure(figsize=(15, 5))\n",
        "  display_one_row(disp_input_images, 0, shape=(28,28,))\n",
        "  display_one_row(disp_encoded, 10, shape=enc_shape)\n",
        "  display_one_row(disp_predicted, 20, shape=(28,28,))"
      ],
      "metadata": {
        "id": "HvubwSgFjr-P"
      },
      "execution_count": 9,
      "outputs": []
    },
    {
      "cell_type": "code",
      "source": [
        "test_data=test_dataset.take(1)\n",
        "output_samples=[]\n",
        "for input_image, image in tfds.as_numpy(test_data):\n",
        "      output_samples = input_image\n",
        "\n",
        "# pick 10 random numbers to be used as indices to the list above\n",
        "idxs = np.random.choice(Batch_size, size=10)\n",
        "\n",
        "# get the encoder output\n",
        "encoded_predicted = encoder_model.predict(test_data)\n",
        "\n",
        "# get a prediction for the test batch\n",
        "simple_predicted = autoencoder_model.predict(test_data)\n",
        "\n",
        "# display the 10 samples, encodings and decoded values!\n",
        "display_results(output_samples[idxs], encoded_predicted[idxs], simple_predicted[idxs])"
      ],
      "metadata": {
        "colab": {
          "base_uri": "https://localhost:8080/",
          "height": 297
        },
        "id": "goBXG70HjzM6",
        "outputId": "1288fa72-95fe-4624-fc91-86ef298e1d2b"
      },
      "execution_count": 12,
      "outputs": [
        {
          "output_type": "display_data",
          "data": {
            "text/plain": [
              "<Figure size 1080x360 with 30 Axes>"
            ],
            "image/png": "[encoded data removed]"
          },
          "metadata": {}
        }
      ]
    }
  ]
}